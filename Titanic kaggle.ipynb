{
 "cells": [
  {
   "cell_type": "code",
   "execution_count": 52,
   "id": "9e9a954d-6257-43de-a9bb-643d13b1c02c",
   "metadata": {},
   "outputs": [],
   "source": [
    "#import libary\n",
    "import pandas as pd\n",
    "import numpy as np\n",
    "import seaborn as sns\n",
    "import matplotlib.pyplot as plt"
   ]
  },
  {
   "cell_type": "markdown",
   "id": "32ef1151-64cd-4857-bd06-eae140282209",
   "metadata": {},
   "source": [
    "Data pre proccessing"
   ]
  },
  {
   "cell_type": "code",
   "execution_count": 53,
   "id": "f86fec47-4a3e-4eb5-ad9c-b351f27baf26",
   "metadata": {},
   "outputs": [],
   "source": [
    "train = pd.read_csv(\"train.csv\")\n",
    "test = pd.read_csv(\"test.csv\")"
   ]
  },
  {
   "cell_type": "raw",
   "id": "2f94ea1a-f2ec-4be7-95a8-d3eb95b973c0",
   "metadata": {},
   "source": [
    "Preview data"
   ]
  },
  {
   "cell_type": "code",
   "execution_count": 54,
   "id": "95271b46-29d8-4b46-be5b-58739b70b8a8",
   "metadata": {},
   "outputs": [
    {
     "name": "stdout",
     "output_type": "stream",
     "text": [
      "Train data frame\n"
     ]
    },
    {
     "data": {
      "text/html": [
       "<div>\n",
       "<style scoped>\n",
       "    .dataframe tbody tr th:only-of-type {\n",
       "        vertical-align: middle;\n",
       "    }\n",
       "\n",
       "    .dataframe tbody tr th {\n",
       "        vertical-align: top;\n",
       "    }\n",
       "\n",
       "    .dataframe thead th {\n",
       "        text-align: right;\n",
       "    }\n",
       "</style>\n",
       "<table border=\"1\" class=\"dataframe\">\n",
       "  <thead>\n",
       "    <tr style=\"text-align: right;\">\n",
       "      <th></th>\n",
       "      <th>PassengerId</th>\n",
       "      <th>Survived</th>\n",
       "      <th>Pclass</th>\n",
       "      <th>Name</th>\n",
       "      <th>Sex</th>\n",
       "      <th>Age</th>\n",
       "      <th>SibSp</th>\n",
       "      <th>Parch</th>\n",
       "      <th>Ticket</th>\n",
       "      <th>Fare</th>\n",
       "      <th>Cabin</th>\n",
       "      <th>Embarked</th>\n",
       "    </tr>\n",
       "  </thead>\n",
       "  <tbody>\n",
       "    <tr>\n",
       "      <th>0</th>\n",
       "      <td>1</td>\n",
       "      <td>0</td>\n",
       "      <td>3</td>\n",
       "      <td>Braund, Mr. Owen Harris</td>\n",
       "      <td>male</td>\n",
       "      <td>22.0</td>\n",
       "      <td>1</td>\n",
       "      <td>0</td>\n",
       "      <td>A/5 21171</td>\n",
       "      <td>7.2500</td>\n",
       "      <td>NaN</td>\n",
       "      <td>S</td>\n",
       "    </tr>\n",
       "    <tr>\n",
       "      <th>1</th>\n",
       "      <td>2</td>\n",
       "      <td>1</td>\n",
       "      <td>1</td>\n",
       "      <td>Cumings, Mrs. John Bradley (Florence Briggs Th...</td>\n",
       "      <td>female</td>\n",
       "      <td>38.0</td>\n",
       "      <td>1</td>\n",
       "      <td>0</td>\n",
       "      <td>PC 17599</td>\n",
       "      <td>71.2833</td>\n",
       "      <td>C85</td>\n",
       "      <td>C</td>\n",
       "    </tr>\n",
       "    <tr>\n",
       "      <th>2</th>\n",
       "      <td>3</td>\n",
       "      <td>1</td>\n",
       "      <td>3</td>\n",
       "      <td>Heikkinen, Miss. Laina</td>\n",
       "      <td>female</td>\n",
       "      <td>26.0</td>\n",
       "      <td>0</td>\n",
       "      <td>0</td>\n",
       "      <td>STON/O2. 3101282</td>\n",
       "      <td>7.9250</td>\n",
       "      <td>NaN</td>\n",
       "      <td>S</td>\n",
       "    </tr>\n",
       "    <tr>\n",
       "      <th>3</th>\n",
       "      <td>4</td>\n",
       "      <td>1</td>\n",
       "      <td>1</td>\n",
       "      <td>Futrelle, Mrs. Jacques Heath (Lily May Peel)</td>\n",
       "      <td>female</td>\n",
       "      <td>35.0</td>\n",
       "      <td>1</td>\n",
       "      <td>0</td>\n",
       "      <td>113803</td>\n",
       "      <td>53.1000</td>\n",
       "      <td>C123</td>\n",
       "      <td>S</td>\n",
       "    </tr>\n",
       "    <tr>\n",
       "      <th>4</th>\n",
       "      <td>5</td>\n",
       "      <td>0</td>\n",
       "      <td>3</td>\n",
       "      <td>Allen, Mr. William Henry</td>\n",
       "      <td>male</td>\n",
       "      <td>35.0</td>\n",
       "      <td>0</td>\n",
       "      <td>0</td>\n",
       "      <td>373450</td>\n",
       "      <td>8.0500</td>\n",
       "      <td>NaN</td>\n",
       "      <td>S</td>\n",
       "    </tr>\n",
       "  </tbody>\n",
       "</table>\n",
       "</div>"
      ],
      "text/plain": [
       "   PassengerId  Survived  Pclass  \\\n",
       "0            1         0       3   \n",
       "1            2         1       1   \n",
       "2            3         1       3   \n",
       "3            4         1       1   \n",
       "4            5         0       3   \n",
       "\n",
       "                                                Name     Sex   Age  SibSp  \\\n",
       "0                            Braund, Mr. Owen Harris    male  22.0      1   \n",
       "1  Cumings, Mrs. John Bradley (Florence Briggs Th...  female  38.0      1   \n",
       "2                             Heikkinen, Miss. Laina  female  26.0      0   \n",
       "3       Futrelle, Mrs. Jacques Heath (Lily May Peel)  female  35.0      1   \n",
       "4                           Allen, Mr. William Henry    male  35.0      0   \n",
       "\n",
       "   Parch            Ticket     Fare Cabin Embarked  \n",
       "0      0         A/5 21171   7.2500   NaN        S  \n",
       "1      0          PC 17599  71.2833   C85        C  \n",
       "2      0  STON/O2. 3101282   7.9250   NaN        S  \n",
       "3      0            113803  53.1000  C123        S  \n",
       "4      0            373450   8.0500   NaN        S  "
      ]
     },
     "execution_count": 54,
     "metadata": {},
     "output_type": "execute_result"
    }
   ],
   "source": [
    "print(\"Train data frame\")\n",
    "train.head()\n"
   ]
  },
  {
   "cell_type": "code",
   "execution_count": 55,
   "id": "3f62d524-a83d-4d2e-bc6c-56c2311df321",
   "metadata": {},
   "outputs": [
    {
     "name": "stdout",
     "output_type": "stream",
     "text": [
      "Test data frame\n"
     ]
    },
    {
     "data": {
      "text/html": [
       "<div>\n",
       "<style scoped>\n",
       "    .dataframe tbody tr th:only-of-type {\n",
       "        vertical-align: middle;\n",
       "    }\n",
       "\n",
       "    .dataframe tbody tr th {\n",
       "        vertical-align: top;\n",
       "    }\n",
       "\n",
       "    .dataframe thead th {\n",
       "        text-align: right;\n",
       "    }\n",
       "</style>\n",
       "<table border=\"1\" class=\"dataframe\">\n",
       "  <thead>\n",
       "    <tr style=\"text-align: right;\">\n",
       "      <th></th>\n",
       "      <th>PassengerId</th>\n",
       "      <th>Pclass</th>\n",
       "      <th>Name</th>\n",
       "      <th>Sex</th>\n",
       "      <th>Age</th>\n",
       "      <th>SibSp</th>\n",
       "      <th>Parch</th>\n",
       "      <th>Ticket</th>\n",
       "      <th>Fare</th>\n",
       "      <th>Cabin</th>\n",
       "      <th>Embarked</th>\n",
       "    </tr>\n",
       "  </thead>\n",
       "  <tbody>\n",
       "    <tr>\n",
       "      <th>0</th>\n",
       "      <td>892</td>\n",
       "      <td>3</td>\n",
       "      <td>Kelly, Mr. James</td>\n",
       "      <td>male</td>\n",
       "      <td>34.5</td>\n",
       "      <td>0</td>\n",
       "      <td>0</td>\n",
       "      <td>330911</td>\n",
       "      <td>7.8292</td>\n",
       "      <td>NaN</td>\n",
       "      <td>Q</td>\n",
       "    </tr>\n",
       "    <tr>\n",
       "      <th>1</th>\n",
       "      <td>893</td>\n",
       "      <td>3</td>\n",
       "      <td>Wilkes, Mrs. James (Ellen Needs)</td>\n",
       "      <td>female</td>\n",
       "      <td>47.0</td>\n",
       "      <td>1</td>\n",
       "      <td>0</td>\n",
       "      <td>363272</td>\n",
       "      <td>7.0000</td>\n",
       "      <td>NaN</td>\n",
       "      <td>S</td>\n",
       "    </tr>\n",
       "    <tr>\n",
       "      <th>2</th>\n",
       "      <td>894</td>\n",
       "      <td>2</td>\n",
       "      <td>Myles, Mr. Thomas Francis</td>\n",
       "      <td>male</td>\n",
       "      <td>62.0</td>\n",
       "      <td>0</td>\n",
       "      <td>0</td>\n",
       "      <td>240276</td>\n",
       "      <td>9.6875</td>\n",
       "      <td>NaN</td>\n",
       "      <td>Q</td>\n",
       "    </tr>\n",
       "    <tr>\n",
       "      <th>3</th>\n",
       "      <td>895</td>\n",
       "      <td>3</td>\n",
       "      <td>Wirz, Mr. Albert</td>\n",
       "      <td>male</td>\n",
       "      <td>27.0</td>\n",
       "      <td>0</td>\n",
       "      <td>0</td>\n",
       "      <td>315154</td>\n",
       "      <td>8.6625</td>\n",
       "      <td>NaN</td>\n",
       "      <td>S</td>\n",
       "    </tr>\n",
       "    <tr>\n",
       "      <th>4</th>\n",
       "      <td>896</td>\n",
       "      <td>3</td>\n",
       "      <td>Hirvonen, Mrs. Alexander (Helga E Lindqvist)</td>\n",
       "      <td>female</td>\n",
       "      <td>22.0</td>\n",
       "      <td>1</td>\n",
       "      <td>1</td>\n",
       "      <td>3101298</td>\n",
       "      <td>12.2875</td>\n",
       "      <td>NaN</td>\n",
       "      <td>S</td>\n",
       "    </tr>\n",
       "  </tbody>\n",
       "</table>\n",
       "</div>"
      ],
      "text/plain": [
       "   PassengerId  Pclass                                          Name     Sex  \\\n",
       "0          892       3                              Kelly, Mr. James    male   \n",
       "1          893       3              Wilkes, Mrs. James (Ellen Needs)  female   \n",
       "2          894       2                     Myles, Mr. Thomas Francis    male   \n",
       "3          895       3                              Wirz, Mr. Albert    male   \n",
       "4          896       3  Hirvonen, Mrs. Alexander (Helga E Lindqvist)  female   \n",
       "\n",
       "    Age  SibSp  Parch   Ticket     Fare Cabin Embarked  \n",
       "0  34.5      0      0   330911   7.8292   NaN        Q  \n",
       "1  47.0      1      0   363272   7.0000   NaN        S  \n",
       "2  62.0      0      0   240276   9.6875   NaN        Q  \n",
       "3  27.0      0      0   315154   8.6625   NaN        S  \n",
       "4  22.0      1      1  3101298  12.2875   NaN        S  "
      ]
     },
     "execution_count": 55,
     "metadata": {},
     "output_type": "execute_result"
    }
   ],
   "source": [
    "print(\"Test data frame\")\n",
    "test.head()"
   ]
  },
  {
   "cell_type": "code",
   "execution_count": 56,
   "id": "3e313488-2074-4c6f-a564-f162ea916253",
   "metadata": {},
   "outputs": [
    {
     "name": "stdout",
     "output_type": "stream",
     "text": [
      "<class 'pandas.core.frame.DataFrame'>\n",
      "RangeIndex: 891 entries, 0 to 890\n",
      "Data columns (total 12 columns):\n",
      " #   Column       Non-Null Count  Dtype  \n",
      "---  ------       --------------  -----  \n",
      " 0   PassengerId  891 non-null    int64  \n",
      " 1   Survived     891 non-null    int64  \n",
      " 2   Pclass       891 non-null    int64  \n",
      " 3   Name         891 non-null    object \n",
      " 4   Sex          891 non-null    object \n",
      " 5   Age          714 non-null    float64\n",
      " 6   SibSp        891 non-null    int64  \n",
      " 7   Parch        891 non-null    int64  \n",
      " 8   Ticket       891 non-null    object \n",
      " 9   Fare         891 non-null    float64\n",
      " 10  Cabin        204 non-null    object \n",
      " 11  Embarked     889 non-null    object \n",
      "dtypes: float64(2), int64(5), object(5)\n",
      "memory usage: 83.7+ KB\n"
     ]
    }
   ],
   "source": [
    "train.info()"
   ]
  },
  {
   "cell_type": "markdown",
   "id": "2954b1df-9253-4610-aa79-e124e1ee5ec0",
   "metadata": {},
   "source": [
    "categorical value: passengerId , survived , p class, name , sex , SibSp , Parch , embarked\n",
    "numerical value : age, fare\n",
    "mix : ticket,cabin\n",
    "blank or null : age cabin embarked\n",
    "various data type int64 float 64 object"
   ]
  },
  {
   "cell_type": "markdown",
   "id": "22ada2b2-4708-4f71-b1d2-0e76bbae3e28",
   "metadata": {},
   "source": [
    "Change type categorical value to catergorical"
   ]
  },
  {
   "cell_type": "code",
   "execution_count": 57,
   "id": "b2206e03-248c-4d09-b9e2-dcaafeeca305",
   "metadata": {},
   "outputs": [],
   "source": [
    "categorical = [\"PassengerId\",\"Survived\",\"Pclass\",\"Name\",\"Sex\",\"SibSp\",\"Parch\",\"Embarked\"]\n",
    "for item in categorical:\n",
    "    train[f'{item}'] = train[f'{item}'].astype(\"category\")"
   ]
  },
  {
   "cell_type": "code",
   "execution_count": 58,
   "id": "6888cd49-3eb1-40c8-a6f4-ce3ecf66d3b0",
   "metadata": {},
   "outputs": [
    {
     "name": "stdout",
     "output_type": "stream",
     "text": [
      "<class 'pandas.core.frame.DataFrame'>\n",
      "RangeIndex: 891 entries, 0 to 890\n",
      "Data columns (total 12 columns):\n",
      " #   Column       Non-Null Count  Dtype   \n",
      "---  ------       --------------  -----   \n",
      " 0   PassengerId  891 non-null    category\n",
      " 1   Survived     891 non-null    category\n",
      " 2   Pclass       891 non-null    category\n",
      " 3   Name         891 non-null    category\n",
      " 4   Sex          891 non-null    category\n",
      " 5   Age          714 non-null    float64 \n",
      " 6   SibSp        891 non-null    category\n",
      " 7   Parch        891 non-null    category\n",
      " 8   Ticket       891 non-null    object  \n",
      " 9   Fare         891 non-null    float64 \n",
      " 10  Cabin        204 non-null    object  \n",
      " 11  Embarked     889 non-null    category\n",
      "dtypes: category(8), float64(2), object(2)\n",
      "memory usage: 116.4+ KB\n"
     ]
    }
   ],
   "source": [
    "train.info()"
   ]
  },
  {
   "cell_type": "raw",
   "id": "7203ae2b-fd2f-4afd-b5f7-20f9b82250b1",
   "metadata": {},
   "source": [
    "NUMERICAL DISTRIBUTION"
   ]
  },
  {
   "cell_type": "code",
   "execution_count": 59,
   "id": "e39a0058-81cf-42cf-af4d-9a4ddf4bb8f7",
   "metadata": {},
   "outputs": [
    {
     "data": {
      "text/html": [
       "<div>\n",
       "<style scoped>\n",
       "    .dataframe tbody tr th:only-of-type {\n",
       "        vertical-align: middle;\n",
       "    }\n",
       "\n",
       "    .dataframe tbody tr th {\n",
       "        vertical-align: top;\n",
       "    }\n",
       "\n",
       "    .dataframe thead th {\n",
       "        text-align: right;\n",
       "    }\n",
       "</style>\n",
       "<table border=\"1\" class=\"dataframe\">\n",
       "  <thead>\n",
       "    <tr style=\"text-align: right;\">\n",
       "      <th></th>\n",
       "      <th>Age</th>\n",
       "      <th>Fare</th>\n",
       "    </tr>\n",
       "  </thead>\n",
       "  <tbody>\n",
       "    <tr>\n",
       "      <th>count</th>\n",
       "      <td>714.000000</td>\n",
       "      <td>891.000000</td>\n",
       "    </tr>\n",
       "    <tr>\n",
       "      <th>mean</th>\n",
       "      <td>29.699118</td>\n",
       "      <td>32.204208</td>\n",
       "    </tr>\n",
       "    <tr>\n",
       "      <th>std</th>\n",
       "      <td>14.526497</td>\n",
       "      <td>49.693429</td>\n",
       "    </tr>\n",
       "    <tr>\n",
       "      <th>min</th>\n",
       "      <td>0.420000</td>\n",
       "      <td>0.000000</td>\n",
       "    </tr>\n",
       "    <tr>\n",
       "      <th>25%</th>\n",
       "      <td>20.125000</td>\n",
       "      <td>7.910400</td>\n",
       "    </tr>\n",
       "    <tr>\n",
       "      <th>50%</th>\n",
       "      <td>28.000000</td>\n",
       "      <td>14.454200</td>\n",
       "    </tr>\n",
       "    <tr>\n",
       "      <th>75%</th>\n",
       "      <td>38.000000</td>\n",
       "      <td>31.000000</td>\n",
       "    </tr>\n",
       "    <tr>\n",
       "      <th>max</th>\n",
       "      <td>80.000000</td>\n",
       "      <td>512.329200</td>\n",
       "    </tr>\n",
       "  </tbody>\n",
       "</table>\n",
       "</div>"
      ],
      "text/plain": [
       "              Age        Fare\n",
       "count  714.000000  891.000000\n",
       "mean    29.699118   32.204208\n",
       "std     14.526497   49.693429\n",
       "min      0.420000    0.000000\n",
       "25%     20.125000    7.910400\n",
       "50%     28.000000   14.454200\n",
       "75%     38.000000   31.000000\n",
       "max     80.000000  512.329200"
      ]
     },
     "execution_count": 59,
     "metadata": {},
     "output_type": "execute_result"
    }
   ],
   "source": [
    "train.describe()"
   ]
  },
  {
   "cell_type": "markdown",
   "id": "48c28862-56bf-4913-ad49-3ddffd2f0743",
   "metadata": {},
   "source": [
    "CATERGORY DISTRIBUTION"
   ]
  },
  {
   "cell_type": "code",
   "execution_count": 60,
   "id": "36c3ec81-42fe-4242-9c52-a1dbc972d907",
   "metadata": {},
   "outputs": [
    {
     "data": {
      "text/html": [
       "<div>\n",
       "<style scoped>\n",
       "    .dataframe tbody tr th:only-of-type {\n",
       "        vertical-align: middle;\n",
       "    }\n",
       "\n",
       "    .dataframe tbody tr th {\n",
       "        vertical-align: top;\n",
       "    }\n",
       "\n",
       "    .dataframe thead th {\n",
       "        text-align: right;\n",
       "    }\n",
       "</style>\n",
       "<table border=\"1\" class=\"dataframe\">\n",
       "  <thead>\n",
       "    <tr style=\"text-align: right;\">\n",
       "      <th></th>\n",
       "      <th>PassengerId</th>\n",
       "      <th>Survived</th>\n",
       "      <th>Pclass</th>\n",
       "      <th>Name</th>\n",
       "      <th>Sex</th>\n",
       "      <th>SibSp</th>\n",
       "      <th>Parch</th>\n",
       "      <th>Embarked</th>\n",
       "    </tr>\n",
       "  </thead>\n",
       "  <tbody>\n",
       "    <tr>\n",
       "      <th>count</th>\n",
       "      <td>891</td>\n",
       "      <td>891</td>\n",
       "      <td>891</td>\n",
       "      <td>891</td>\n",
       "      <td>891</td>\n",
       "      <td>891</td>\n",
       "      <td>891</td>\n",
       "      <td>889</td>\n",
       "    </tr>\n",
       "    <tr>\n",
       "      <th>unique</th>\n",
       "      <td>891</td>\n",
       "      <td>2</td>\n",
       "      <td>3</td>\n",
       "      <td>891</td>\n",
       "      <td>2</td>\n",
       "      <td>7</td>\n",
       "      <td>7</td>\n",
       "      <td>3</td>\n",
       "    </tr>\n",
       "    <tr>\n",
       "      <th>top</th>\n",
       "      <td>1</td>\n",
       "      <td>0</td>\n",
       "      <td>3</td>\n",
       "      <td>Abbing, Mr. Anthony</td>\n",
       "      <td>male</td>\n",
       "      <td>0</td>\n",
       "      <td>0</td>\n",
       "      <td>S</td>\n",
       "    </tr>\n",
       "    <tr>\n",
       "      <th>freq</th>\n",
       "      <td>1</td>\n",
       "      <td>549</td>\n",
       "      <td>491</td>\n",
       "      <td>1</td>\n",
       "      <td>577</td>\n",
       "      <td>608</td>\n",
       "      <td>678</td>\n",
       "      <td>644</td>\n",
       "    </tr>\n",
       "  </tbody>\n",
       "</table>\n",
       "</div>"
      ],
      "text/plain": [
       "        PassengerId  Survived  Pclass                 Name   Sex  SibSp  \\\n",
       "count           891       891     891                  891   891    891   \n",
       "unique          891         2       3                  891     2      7   \n",
       "top               1         0       3  Abbing, Mr. Anthony  male      0   \n",
       "freq              1       549     491                    1   577    608   \n",
       "\n",
       "        Parch Embarked  \n",
       "count     891      889  \n",
       "unique      7        3  \n",
       "top         0        S  \n",
       "freq      678      644  "
      ]
     },
     "execution_count": 60,
     "metadata": {},
     "output_type": "execute_result"
    }
   ],
   "source": [
    "train.describe(include = [\"category\"])"
   ]
  },
  {
   "cell_type": "markdown",
   "id": "04ddfae9-dc1a-4ae7-b11e-dd9429b8db92",
   "metadata": {},
   "source": [
    "<h1>EDA</h1>"
   ]
  },
  {
   "cell_type": "markdown",
   "id": "a6fbc306-77bf-4ae2-a2b3-734e8e180ddd",
   "metadata": {},
   "source": [
    ">Tìm mối liên hệ giữa các biến và biến mục tiêu là survived "
   ]
  },
  {
   "cell_type": "code",
   "execution_count": 61,
   "id": "bab42016-5754-4d6d-b6f4-2d62f69eaecb",
   "metadata": {},
   "outputs": [
    {
     "data": {
      "text/plain": [
       "<AxesSubplot: ylabel='Survived'>"
      ]
     },
     "execution_count": 61,
     "metadata": {},
     "output_type": "execute_result"
    },
    {
     "data": {
      "image/png": "[encoded data removed]",
      "text/plain": [
       "<Figure size 640x480 with 1 Axes>"
      ]
     },
     "metadata": {},
     "output_type": "display_data"
    }
   ],
   "source": [
    "train.Survived.value_counts().plot.pie()"
   ]
  },
  {
   "cell_type": "code",
   "execution_count": 79,
   "id": "a240e1e1-1c6e-4182-9b88-3d201b539073",
   "metadata": {},
   "outputs": [
    {
     "name": "stdout",
     "output_type": "stream",
     "text": [
      "The percentage of women survived 74%\n",
      "The percentage of man survived 19%\n"
     ]
    },
    {
     "data": {
      "text/plain": [
       "[]"
      ]
     },
     "execution_count": 79,
     "metadata": {},
     "output_type": "execute_result"
    },
    {
     "data": {
      "image/png": "[encoded data removed]",
      "text/plain": [
       "<Figure size 640x480 with 1 Axes>"
      ]
     },
     "metadata": {},
     "output_type": "display_data"
    }
   ],
   "source": [
    "women = train.loc[train.Sex == 'female'][\"Survived\"]\n",
    "rate_women = round(sum(women)/len(women) * 100)\n",
    "print(f\"The percentage of women survived {rate_women}%\")\n",
    "man = train.loc[train.Sex == 'male'][\"Survived\"]\n",
    "rate_man = round(sum(man)/len(man) * 100)\n",
    "print(f\"The percentage of man survived {rate_man}%\")\n",
    "sns.countplot(x = \"Sex\" ,data=train,hue = \"Survived\")\n",
    "plt.plot()"
   ]
  },
  {
   "cell_type": "markdown",
   "id": "2cd5beb2-6acf-48b8-8ad2-4d09dc33b4da",
   "metadata": {},
   "source": [
    "> nhận thấy rằng tỉ lệ sống sót ở nam là thấp hơn so với tỉ lệ sống sót ở nũ là cao hơn so với ở nam ,tỉ lệ sống sot ở nữ là 74% và ở nam là 19%"
   ]
  },
  {
   "cell_type": "code",
   "execution_count": 98,
   "id": "923cbffd-ab99-428e-8bbe-c9dc36dec2af",
   "metadata": {},
   "outputs": [
    {
     "name": "stdout",
     "output_type": "stream",
     "text": [
      "percentage of people in class 1 is 63 %\n",
      "percentage of people in class 2 is 47 %\n",
      "percentage of people in class 3 is 24 %\n"
     ]
    },
    {
     "data": {
      "text/plain": [
       "[]"
      ]
     },
     "execution_count": 98,
     "metadata": {},
     "output_type": "execute_result"
    },
    {
     "data": {
      "image/png": "[encoded data removed]",
      "text/plain": [
       "<Figure size 640x480 with 1 Axes>"
      ]
     },
     "metadata": {},
     "output_type": "display_data"
    }
   ],
   "source": [
    "pclass = [1,2,3]\n",
    "for i in pclass:\n",
    "    pclass = train.loc[train.Pclass == i][\"Survived\"]\n",
    "    pclass_rate = round(sum(pclass) / len(pclass) * 100)\n",
    "    print(f\"percentage of people in class {i} is {pclass_rate} %\")\n",
    "sns.countplot(x = \"Pclass\" ,data=train,hue = \"Survived\")\n",
    "plt.plot()"
   ]
  },
  {
   "cell_type": "markdown",
   "id": "2f544123-8cab-4fe9-b710-30314aca3495",
   "metadata": {},
   "source": [
    ">Tỉ lệ sống sót ở các khoang hạng cao cấp hơn là cao hơn so với các khoang ở hạng dưới "
   ]
  },
  {
   "cell_type": "code",
   "execution_count": 99,
   "id": "178bfabd-6d65-4d3a-8f40-cab6cfbecb88",
   "metadata": {},
   "outputs": [
    {
     "name": "stdout",
     "output_type": "stream",
     "text": [
      "percentage of people survived enter ship in Cherbourg is 55 %\n",
      "percentage of people survived enter ship in Queenstown is 39 %\n",
      "percentage of people survived enter ship in Southampton is 34 %\n"
     ]
    },
    {
     "data": {
      "text/plain": [
       "[]"
      ]
     },
     "execution_count": 99,
     "metadata": {},
     "output_type": "execute_result"
    },
    {
     "data": {
      "image/png": "[encoded data removed]",
      "text/plain": [
       "<Figure size 640x480 with 1 Axes>"
      ]
     },
     "metadata": {},
     "output_type": "display_data"
    }
   ],
   "source": [
    "Embarked = ['C','Q','S']\n",
    "for i in Embarked:\n",
    "    Embarked = train.loc[train.Embarked == i][\"Survived\"]\n",
    "    Embarked_rate = round(sum(Embarked) / len(Embarked) * 100)\n",
    "    if i == 'C':\n",
    "        i = \"Cherbourg\"\n",
    "    elif i == 'Q':\n",
    "        i = \"Queenstown\"\n",
    "    elif i == 'S':\n",
    "        i = \"Southampton\"\n",
    "    print(f\"percentage of people survived enter ship in {i} is {Embarked_rate} %\")\n",
    "sns.countplot(x = \"Embarked\" ,data=train,hue = \"Survived\")\n",
    "plt.plot()"
   ]
  },
  {
   "cell_type": "code",
   "execution_count": 174,
   "id": "374bc520-8ec9-493c-8617-1cd121d8205e",
   "metadata": {},
   "outputs": [
    {
     "data": {
      "text/plain": [
       "[]"
      ]
     },
     "execution_count": 174,
     "metadata": {},
     "output_type": "execute_result"
    },
    {
     "data": {
      "image/png": "[encoded data removed]",
      "text/plain": [
       "<Figure size 640x480 with 1 Axes>"
      ]
     },
     "metadata": {},
     "output_type": "display_data"
    }
   ],
   "source": [
    "sns.histplot(data = train,x = 'Age',kde = True,bins=60,hue = 'Survived')\n",
    "plt.plot()"
   ]
  },
  {
   "cell_type": "markdown",
   "id": "d7927a78-12ae-440d-b7b4-beb2d1709d7a",
   "metadata": {},
   "source": [
    ">percentage of survived by age in 4 group"
   ]
  },
  {
   "cell_type": "markdown",
   "id": "8c4bafcd-eccf-491a-80b3-7adacdfbb237",
   "metadata": {},
   "source": [
    ">split age variabel into 4 type lower than 18 , 18 to 30, 30 to 50 , more than 50"
   ]
  },
  {
   "cell_type": "code",
   "execution_count": 155,
   "id": "b6850673-0217-47ff-b506-66055cbaefd8",
   "metadata": {},
   "outputs": [
    {
     "name": "stdout",
     "output_type": "stream",
     "text": [
      "percentage of Teenager survived is 50  %\n",
      "percentage of Adult survived is 35  %\n",
      "percentage of Middle Age survived is 42  %\n",
      "percentage of Old survived is 36  %\n"
     ]
    },
    {
     "data": {
      "text/plain": [
       "[]"
      ]
     },
     "execution_count": 155,
     "metadata": {},
     "output_type": "execute_result"
    },
    {
     "data": {
      "image/png": "[encoded data removed]",
      "text/plain": [
       "<Figure size 640x480 with 1 Axes>"
      ]
     },
     "metadata": {},
     "output_type": "display_data"
    }
   ],
   "source": [
    "cache = train.copy()\n",
    "cache.Age.astype(\"category\")\n",
    "for i in cache.Age:\n",
    "    if i <= 18:\n",
    "        cache.Age = cache.Age.replace(i,\"Teenager\")\n",
    "    if i < 30 and i > 18:\n",
    "        cache.Age = cache.Age.replace(i,\"Adult\")\n",
    "    if i < 50 and i >= 30:\n",
    "        cache.Age = cache.Age.replace(i,\"Middle Age\")\n",
    "    if i >= 50:\n",
    "        cache.Age = cache.Age.replace(i,\"Old\")\n",
    "category_age = [\"Teenager\",\"Adult\",\"Middle Age\",\"Old\"]\n",
    "for i in category_age:\n",
    "    category_age = train.loc[cache.Age == i][\"Survived\"]\n",
    "    category_rate = round(sum(category_age) / len(category_age) * 100)\n",
    "    print(f\"percentage of {i} survived is {category_rate}  %\")\n",
    "sns.countplot(x = \"Age\" ,data=cache,hue = \"Survived\")\n",
    "plt.plot()\n"
   ]
  },
  {
   "cell_type": "markdown",
   "id": "2227bc7f-9998-4c93-bd8f-729db53b9b29",
   "metadata": {},
   "source": [
    "> người trong độ tuổi ít hơn hoặc 18 tuổi có tỉ lệ sống cao nhất với 50 % sau đó là người trong độ tuổi từ 30 đến 50 với 42% tiêps đến là người trong độ tuổi trên 50 với 36% và người trong khoảng 18 đến 30 là 35%"
   ]
  },
  {
   "cell_type": "code",
   "execution_count": 171,
   "id": "5fe95743-ed4e-4a24-8000-543d882b6734",
   "metadata": {},
   "outputs": [
    {
     "name": "stdout",
     "output_type": "stream",
     "text": [
      "count    891.000000\n",
      "mean      32.204208\n",
      "std       49.693429\n",
      "min        0.000000\n",
      "25%        7.910400\n",
      "50%       14.454200\n",
      "75%       31.000000\n",
      "max      512.329200\n",
      "Name: Fare, dtype: float64\n"
     ]
    },
    {
     "data": {
      "text/plain": [
       "[]"
      ]
     },
     "execution_count": 171,
     "metadata": {},
     "output_type": "execute_result"
    },
    {
     "data": {
      "image/png": "[encoded data removed]",
      "text/plain": [
       "<Figure size 640x480 with 1 Axes>"
      ]
     },
     "metadata": {},
     "output_type": "display_data"
    }
   ],
   "source": [
    "print(train.Fare.describe())\n",
    "sns.histplot(data = train,x = 'Fare',kde = True,bins=40,hue = 'Survived')\n",
    "plt.plot()"
   ]
  },
  {
   "cell_type": "code",
   "execution_count": 162,
   "id": "91cdf4a8-8eb5-4a06-9caf-89df74665392",
   "metadata": {},
   "outputs": [],
   "source": [
    "fare_category = pd.qcut(train['Fare'],4,[\"Economy Class\",\"Premium Class\",\"Business Class\",\"First Class\"])"
   ]
  },
  {
   "cell_type": "code",
   "execution_count": 176,
   "id": "fc7befca-0909-448c-be61-cc1c41ed747c",
   "metadata": {},
   "outputs": [
    {
     "name": "stdout",
     "output_type": "stream",
     "text": [
      "percentage of people in Economy Class survived is 20  %\n",
      "             Fare\n",
      "count  223.000000\n",
      "mean     7.034172\n",
      "std      1.946215\n",
      "min      0.000000\n",
      "25%      7.229200\n",
      "50%      7.750000\n",
      "75%      7.854200\n",
      "max      7.895800\n",
      "percentage of people in Premium Class survived is 30  %\n",
      "             Fare\n",
      "count  224.000000\n",
      "mean    10.386050\n",
      "std      2.188359\n",
      "min      7.925000\n",
      "25%      8.050000\n",
      "50%      9.843750\n",
      "75%     13.000000\n",
      "max     14.454200\n",
      "percentage of people in Business Class survived is 45  %\n",
      "             Fare\n",
      "count  222.000000\n",
      "mean    23.028677\n",
      "std      5.093019\n",
      "min     14.458300\n",
      "25%     18.750000\n",
      "50%     25.466700\n",
      "75%     26.550000\n",
      "max     31.000000\n",
      "percentage of people in First Class survived is 58  %\n",
      "             Fare\n",
      "count  222.000000\n",
      "mean    88.677872\n",
      "std     74.163197\n",
      "min     31.275000\n",
      "25%     46.900000\n",
      "50%     69.550000\n",
      "75%     91.079200\n",
      "max    512.329200\n"
     ]
    },
    {
     "data": {
      "text/plain": [
       "[]"
      ]
     },
     "execution_count": 176,
     "metadata": {},
     "output_type": "execute_result"
    },
    {
     "data": {
      "image/png": "[encoded data removed]",
      "text/plain": [
       "<Figure size 640x480 with 1 Axes>"
      ]
     },
     "metadata": {},
     "output_type": "display_data"
    }
   ],
   "source": [
    "cache['fare_category'] = fare_category\n",
    "fare = [\"Economy Class\",\"Premium Class\",\"Business Class\",\"First Class\"]\n",
    "for i in fare:\n",
    "    fare = cache.loc[cache.fare_category == i][\"Survived\"]\n",
    "    fare_rate = round(sum(fare) / len(fare) * 100)\n",
    "    print(f\"percentage of people in {i} survived is {fare_rate}  %\")\n",
    "sns.histplot(data = cache,x = 'fare_category',hue = 'Survived')\n",
    "plt.plot()"
   ]
  },
  {
   "cell_type": "markdown",
   "id": "826264f0-323f-4fd6-9e25-0ab752b0a61a",
   "metadata": {},
   "source": [
    ">nhận thấy rằng tỉ lệ sống sót tăng dần theo hạng giá vé nếu hạng giá vé càng cao tỉ lệ sống sót sẽ cao hơn "
   ]
  },
  {
   "cell_type": "code",
   "execution_count": null,
   "id": "34407bc3-6567-4753-a6f7-bc677e3dce65",
   "metadata": {},
   "outputs": [],
   "source": []
  }
 ],
 "metadata": {
  "kernelspec": {
   "display_name": "Python 3 (ipykernel)",
   "language": "python",
   "name": "python3"
  },
  "language_info": {
   "codemirror_mode": {
    "name": "ipython",
    "version": 3
   },
   "file_extension": ".py",
   "mimetype": "text/x-python",
   "name": "python",
   "nbconvert_exporter": "python",
   "pygments_lexer": "ipython3",
   "version": "3.11.6"
  }
 },
 "nbformat": 4,
 "nbformat_minor": 5
}
